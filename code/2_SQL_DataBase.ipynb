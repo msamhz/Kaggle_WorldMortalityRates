{
 "cells": [
  {
   "cell_type": "markdown",
   "metadata": {},
   "source": [
    "# Contents\n",
    "\n",
    "- [Load libraries](#Load-libraries)\n",
    "- [Create table](#Create-table)"
   ]
  },
  {
   "cell_type": "markdown",
   "metadata": {},
   "source": [
    "# Load libraries"
   ]
  },
  {
   "cell_type": "code",
   "execution_count": 1,
   "metadata": {},
   "outputs": [],
   "source": [
    "import sqlite3\n",
    "import pandas as pd\n",
    "import numpy as np"
   ]
  },
  {
   "cell_type": "markdown",
   "metadata": {},
   "source": [
    "# Create table"
   ]
  },
  {
   "cell_type": "code",
   "execution_count": 2,
   "metadata": {},
   "outputs": [],
   "source": [
    "sql_create_country = \"\"\" CREATE TABLE country (\n",
    "\t\t\"country\"\t\tTEXT PRIMARY KEY,\n",
    "\t\t\"continents\"\tTEXT\n",
    ")\"\"\"\n",
    "\n",
    "sql_create_year = \"\"\" CREATE TABLE year (\n",
    "\t\t\"year\"\t\t\tINTEGER PRIMARY KEY\n",
    ")\"\"\"\n",
    "\n",
    "sql_create_sex = \"\"\" CREATE TABLE sex (\n",
    "\t\t\"sex\"\t\t\tTEXT PRIMARY KEY\n",
    ")\"\"\"\n",
    "\n",
    "sql_create_adult_mortality = \"\"\" CREATE TABLE adult_mortality (\n",
    "\t\"country\"\t\t\tTEXT,\n",
    "\t\"year\"\t\t\t\tINTEGER,\n",
    "\t\"sex\"\t\t\t\tTEXT,\n",
    "\t\"adult_mortality\"\tREAL,\n",
    "PRIMARY KEY (\"country\",\"year\",\"sex\"),\n",
    "FOREIGN KEY (\"country\") REFERENCES \"country\" (\"country\"),\n",
    "FOREIGN KEY (\"year\") REFERENCES \"year\" (\"year\"),\n",
    "FOREIGN KEY (\"sex\") REFERENCES \"sex\" (\"sex\")\n",
    ")\"\"\"\n",
    "\n",
    "sql_create_maternal_mortality = \"\"\" CREATE TABLE maternal_mortality (\n",
    "\t\"country\"\t\t\tTEXT,\n",
    "\t\"year\"\t\t\t\tINTEGER,\n",
    "\t\"maternal_ratio\"\tREAL,\n",
    "\t\"num_maternaldeath\"\tREAL,\n",
    "PRIMARY KEY (\"country\",\"year\"),\n",
    "FOREIGN KEY (\"country\") REFERENCES \"country\" (\"country\"),\n",
    "FOREIGN KEY (\"year\") REFERENCES \"year\" (\"year\")\n",
    ")\"\"\"\n",
    "\n",
    "\n",
    "sql_create_no_infantdeath = \"\"\" CREATE TABLE no_infantdeath (\n",
    "\t\"country\"\t\t\tTEXT,\n",
    "\t\"year\"\t\t\t\tINTEGER,\n",
    "\t\"sex\"\t\t\t\tTEXT,\n",
    "\t\"no_infantdeath\"\tINTEGER,\n",
    "PRIMARY KEY (\"country\",\"year\",\"sex\"),\n",
    "FOREIGN KEY (\"country\") REFERENCES \"country\" (\"country\"),\n",
    "FOREIGN KEY (\"year\") REFERENCES \"year\" (\"year\"),\n",
    "FOREIGN KEY (\"sex\") REFERENCES \"sex\" (\"sex\")\n",
    ")\"\"\"\n",
    "\n",
    "sql_create_no_neonataldeath = \"\"\" CREATE TABLE no_neonataldeath (\n",
    "\t\"country\"\t\t\tTEXT,\n",
    "\t\"year\"\t\t\t\tINTEGER,\n",
    "\t\"sex\"\t\t\t\tTEXT,\n",
    "\t\"no_neonataldeath\"\tINTEGER,\n",
    "PRIMARY KEY (\"country\",\"year\",\"sex\"),\n",
    "FOREIGN KEY (\"country\") REFERENCES \"country\" (\"country\"),\n",
    "FOREIGN KEY (\"year\") REFERENCES \"year\" (\"year\"),\n",
    "FOREIGN KEY (\"sex\") REFERENCES \"sex\" (\"sex\")\n",
    ")\"\"\"\n",
    "\n",
    "sql_create_no_underfivedeath = \"\"\" CREATE TABLE no_underfivedeath (\n",
    "\t\"country\"\t\t\tTEXT,\n",
    "\t\"year\"\t\t\t\tINTEGER,\n",
    "\t\"sex\"\t\t\t\tTEXT,\n",
    "\t\"no_underfivedeath\"\tINTEGER,\n",
    "PRIMARY KEY (\"country\",\"year\",\"sex\"),\n",
    "FOREIGN KEY (\"country\") REFERENCES \"country\" (\"country\"),\n",
    "FOREIGN KEY (\"year\") REFERENCES \"year\" (\"year\"),\n",
    "FOREIGN KEY (\"sex\") REFERENCES \"sex\" (\"sex\")\n",
    ")\"\"\"\n",
    "\n",
    "sql_create_prob_infantdeath = \"\"\" CREATE TABLE prob_infantdeathh (\n",
    "\t\"country\"\t\t\tTEXT,\n",
    "\t\"year\"\t\t\t\tINTEGER,\n",
    "\t\"sex\"\t\t\t\tTEXT,\n",
    "\t\"prob_infantdeathh\"\tINTEGER,\n",
    "PRIMARY KEY (\"country\",\"year\",\"sex\"),\n",
    "FOREIGN KEY (\"country\") REFERENCES \"country\" (\"country\"),\n",
    "FOREIGN KEY (\"year\") REFERENCES \"year\" (\"year\"),\n",
    "FOREIGN KEY (\"sex\") REFERENCES \"sex\" (\"sex\")\n",
    ")\"\"\"\n",
    "\n",
    "sql_create_prob_neonataldeath = \"\"\" CREATE TABLE prob_neonataldeath (\n",
    "\t\"country\"\t\t\t\tTEXT,\n",
    "\t\"year\"\t\t\t\t\tINTEGER,\n",
    "\t\"sex\"\t\t\t\t\tTEXT,\n",
    "\t\"prob_neonataldeath\"\tINTEGER,\n",
    "PRIMARY KEY (\"country\",\"year\",\"sex\"),\n",
    "FOREIGN KEY (\"country\") REFERENCES \"country\" (\"country\"),\n",
    "FOREIGN KEY (\"year\") REFERENCES \"year\" (\"year\"),\n",
    "FOREIGN KEY (\"sex\") REFERENCES \"sex\" (\"sex\")\n",
    ")\"\"\"\n",
    "\n",
    "sql_create_prob_underfivedeath = \"\"\" CREATE TABLE prob_underfivedeath (\n",
    "\t\"country\"\t\t\t\tTEXT,\n",
    "\t\"year\"\t\t\t\t\tINTEGER,\n",
    "\t\"sex\"\t\t\t\t\tTEXT,\n",
    "\t\"prob_underfivedeath\"\tINTEGER,\n",
    "PRIMARY KEY (\"country\",\"year\",\"sex\"),\n",
    "FOREIGN KEY (\"country\") REFERENCES \"country\" (\"country\"),\n",
    "FOREIGN KEY (\"year\") REFERENCES \"year\" (\"year\"),\n",
    "FOREIGN KEY (\"sex\") REFERENCES \"sex\" (\"sex\")\n",
    ")\"\"\""
   ]
  },
  {
   "cell_type": "code",
   "execution_count": 3,
   "metadata": {},
   "outputs": [],
   "source": [
    "year = pd.read_csv('../new_csv/year.csv')\n",
    "country = pd.read_csv('../new_csv/country.csv')\n",
    "sex = pd.read_csv('../new_csv/sex.csv')\n",
    "\n",
    "adult_mortality = pd.read_csv('../new_csv/adult_mortality.csv')\n",
    "maternal_mortality = pd.read_csv('../new_csv/maternal_mortality.csv')\n",
    "\n",
    "no_infantdeath = pd.read_csv('../new_csv/no_infantdeath.csv')\n",
    "no_neonataldeath = pd.read_csv('../new_csv/no_neonataldeath.csv')\n",
    "no_underfivedeath = pd.read_csv('../new_csv/no_underfivedeath.csv')\n",
    "\n",
    "prob_infantdeath = pd.read_csv('../new_csv/prob_infantdeath.csv')\n",
    "prob_neonataldeath = pd.read_csv('../new_csv/prob_neonataldeath.csv')\n",
    "prob_underfivedeath = pd.read_csv('../new_csv/prob_underfivedeath.csv')\n"
   ]
  },
  {
   "cell_type": "code",
   "execution_count": 4,
   "metadata": {},
   "outputs": [],
   "source": [
    "conn = sqlite3.connect('health_data.db')"
   ]
  },
  {
   "cell_type": "code",
   "execution_count": 5,
   "metadata": {},
   "outputs": [],
   "source": [
    "def get_template(df):\n",
    "    num = len(df.columns)\n",
    "\n",
    "    if num == 1:\n",
    "        return ('(?)')\n",
    "    else:\n",
    "        text = '(?' + (num-1)*',?' + ')'\n",
    "        return text"
   ]
  },
  {
   "cell_type": "code",
   "execution_count": 6,
   "metadata": {},
   "outputs": [],
   "source": [
    "# define function that keeps only letters \n",
    "# gets table name defined by the sql_create variables\n",
    "def get_tablename(sql_variable):\n",
    "    return sql_variable.split()[2]"
   ]
  },
  {
   "cell_type": "code",
   "execution_count": 7,
   "metadata": {},
   "outputs": [],
   "source": [
    "def create_sql_table(df, sql_create):\n",
    "    \n",
    "    columns = df.columns\n",
    "    # if df has \"year\" column, need to convert to text first to prevent BLOB issue\n",
    "    if 'year' in columns:\n",
    "        df.year = df.year.astype((str))\n",
    "\n",
    "    # record number of columns \n",
    "    num = len(df)\n",
    "\n",
    "    # create list of tuples that contains contents of dataframe\n",
    "    df_list = [tuple(df.iloc[i,:]) for i in range(num)]\n",
    "\n",
    "    c = conn.cursor()\n",
    "\n",
    "    c.execute(sql_create)\n",
    "    text = \"insert into \" + get_tablename(sql_create) + \" values \" + get_template(df)\n",
    "    c.executemany(text, df_list)\n",
    "\n",
    "    conn.commit()\n"
   ]
  },
  {
   "cell_type": "code",
   "execution_count": 8,
   "metadata": {},
   "outputs": [
    {
     "data": {
      "text/plain": [
       "'insert into adult_mortality values (?,?,?,?)'"
      ]
     },
     "execution_count": 8,
     "metadata": {},
     "output_type": "execute_result"
    }
   ],
   "source": [
    "\"insert into \" + get_tablename(sql_create_adult_mortality) + \" values \" + get_template(adult_mortality)"
   ]
  },
  {
   "cell_type": "code",
   "execution_count": 9,
   "metadata": {},
   "outputs": [],
   "source": [
    "create_sql_table(country, sql_create_country)\n",
    "create_sql_table(year, sql_create_year)\n"
   ]
  },
  {
   "cell_type": "code",
   "execution_count": 10,
   "metadata": {},
   "outputs": [],
   "source": [
    "create_sql_table(adult_mortality, sql_create_adult_mortality)"
   ]
  },
  {
   "cell_type": "code",
   "execution_count": null,
   "metadata": {},
   "outputs": [],
   "source": [
    "create_sql_table(maternal_mortality, sql_create_maternal_mortality)"
   ]
  },
  {
   "cell_type": "code",
   "execution_count": null,
   "metadata": {},
   "outputs": [],
   "source": [
    "create_sql_table(no_infantdeath, sql_create_no_infantdeath)"
   ]
  },
  {
   "cell_type": "code",
   "execution_count": null,
   "metadata": {},
   "outputs": [],
   "source": [
    "create_sql_table(no_neonataldeath, sql_create_no_neonataldeath)"
   ]
  },
  {
   "cell_type": "code",
   "execution_count": null,
   "metadata": {},
   "outputs": [],
   "source": [
    "create_sql_table(no_underfivedeath, sql_create_no_underfivedeath)"
   ]
  },
  {
   "cell_type": "code",
   "execution_count": null,
   "metadata": {},
   "outputs": [],
   "source": [
    "create_sql_table(prob_infantdeath, sql_create_prob_infantdeath)"
   ]
  },
  {
   "cell_type": "code",
   "execution_count": null,
   "metadata": {},
   "outputs": [],
   "source": [
    "create_sql_table(prob_neonataldeath, sql_create_prob_neonataldeath)"
   ]
  },
  {
   "cell_type": "code",
   "execution_count": null,
   "metadata": {},
   "outputs": [],
   "source": [
    "create_sql_table(prob_underfivedeath, sql_create_prob_underfivedeath)"
   ]
  },
  {
   "cell_type": "code",
   "execution_count": null,
   "metadata": {},
   "outputs": [],
   "source": [
    "conn.close()"
   ]
  }
 ],
 "metadata": {
  "interpreter": {
   "hash": "575f3d59c62e4451a6ffa8d11d7535209d27491b7f53d7736630c65e60db3285"
  },
  "kernelspec": {
   "display_name": "Python 3.7.13 ('dsi27tf')",
   "language": "python",
   "name": "python3"
  },
  "language_info": {
   "codemirror_mode": {
    "name": "ipython",
    "version": 3
   },
   "file_extension": ".py",
   "mimetype": "text/x-python",
   "name": "python",
   "nbconvert_exporter": "python",
   "pygments_lexer": "ipython3",
   "version": "3.7.13"
  },
  "orig_nbformat": 4
 },
 "nbformat": 4,
 "nbformat_minor": 2
}
